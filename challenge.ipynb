{
 "cells": [
  {
   "cell_type": "markdown",
   "metadata": {},
   "source": [
    "## A.I Challenge"
   ]
  },
  {
   "cell_type": "markdown",
   "metadata": {},
   "source": [
    "### Importing the dependencies"
   ]
  },
  {
   "cell_type": "code",
   "execution_count": 6,
   "metadata": {},
   "outputs": [],
   "source": [
    "import numpy as np\n",
    "import pandas as pd\n",
    "import seaborn as sns\n",
    "import matplotlib.pyplot as plt\n",
    "from sklearn.preprocessing import LabelEncoder\n",
    "from sklearn.model_selection import train_test_split\n",
    "from sklearn import metrics\n",
    "%matplotlib inline"
   ]
  },
  {
   "cell_type": "markdown",
   "metadata": {},
   "source": [
    "### Pre-processing the data"
   ]
  },
  {
   "cell_type": "code",
   "execution_count": 29,
   "metadata": {},
   "outputs": [
    {
     "data": {
      "text/html": [
       "<div>\n",
       "<style scoped>\n",
       "    .dataframe tbody tr th:only-of-type {\n",
       "        vertical-align: middle;\n",
       "    }\n",
       "\n",
       "    .dataframe tbody tr th {\n",
       "        vertical-align: top;\n",
       "    }\n",
       "\n",
       "    .dataframe thead th {\n",
       "        text-align: right;\n",
       "    }\n",
       "</style>\n",
       "<table border=\"1\" class=\"dataframe\">\n",
       "  <thead>\n",
       "    <tr style=\"text-align: right;\">\n",
       "      <th></th>\n",
       "      <th>MONATSZAHL</th>\n",
       "      <th>AUSPRAEGUNG</th>\n",
       "      <th>JAHR</th>\n",
       "      <th>MONAT</th>\n",
       "      <th>WERT</th>\n",
       "      <th>VORJAHRESWERT</th>\n",
       "      <th>VERAEND_VORMONAT_PROZENT</th>\n",
       "      <th>VERAEND_VORJAHRESMONAT_PROZENT</th>\n",
       "      <th>ZWOELF_MONATE_MITTELWERT</th>\n",
       "    </tr>\n",
       "  </thead>\n",
       "  <tbody>\n",
       "    <tr>\n",
       "      <th>0</th>\n",
       "      <td>Alkoholunfälle</td>\n",
       "      <td>insgesamt</td>\n",
       "      <td>2022</td>\n",
       "      <td>202201</td>\n",
       "      <td>NaN</td>\n",
       "      <td>16.0</td>\n",
       "      <td>NaN</td>\n",
       "      <td>NaN</td>\n",
       "      <td>NaN</td>\n",
       "    </tr>\n",
       "    <tr>\n",
       "      <th>1</th>\n",
       "      <td>Alkoholunfälle</td>\n",
       "      <td>insgesamt</td>\n",
       "      <td>2022</td>\n",
       "      <td>202202</td>\n",
       "      <td>NaN</td>\n",
       "      <td>14.0</td>\n",
       "      <td>NaN</td>\n",
       "      <td>NaN</td>\n",
       "      <td>NaN</td>\n",
       "    </tr>\n",
       "    <tr>\n",
       "      <th>2</th>\n",
       "      <td>Alkoholunfälle</td>\n",
       "      <td>insgesamt</td>\n",
       "      <td>2022</td>\n",
       "      <td>202203</td>\n",
       "      <td>NaN</td>\n",
       "      <td>24.0</td>\n",
       "      <td>NaN</td>\n",
       "      <td>NaN</td>\n",
       "      <td>NaN</td>\n",
       "    </tr>\n",
       "    <tr>\n",
       "      <th>3</th>\n",
       "      <td>Alkoholunfälle</td>\n",
       "      <td>insgesamt</td>\n",
       "      <td>2022</td>\n",
       "      <td>202204</td>\n",
       "      <td>NaN</td>\n",
       "      <td>16.0</td>\n",
       "      <td>NaN</td>\n",
       "      <td>NaN</td>\n",
       "      <td>NaN</td>\n",
       "    </tr>\n",
       "    <tr>\n",
       "      <th>4</th>\n",
       "      <td>Alkoholunfälle</td>\n",
       "      <td>insgesamt</td>\n",
       "      <td>2022</td>\n",
       "      <td>202205</td>\n",
       "      <td>NaN</td>\n",
       "      <td>24.0</td>\n",
       "      <td>NaN</td>\n",
       "      <td>NaN</td>\n",
       "      <td>NaN</td>\n",
       "    </tr>\n",
       "  </tbody>\n",
       "</table>\n",
       "</div>"
      ],
      "text/plain": [
       "       MONATSZAHL AUSPRAEGUNG  JAHR   MONAT  WERT  VORJAHRESWERT  \\\n",
       "0  Alkoholunfälle   insgesamt  2022  202201   NaN           16.0   \n",
       "1  Alkoholunfälle   insgesamt  2022  202202   NaN           14.0   \n",
       "2  Alkoholunfälle   insgesamt  2022  202203   NaN           24.0   \n",
       "3  Alkoholunfälle   insgesamt  2022  202204   NaN           16.0   \n",
       "4  Alkoholunfälle   insgesamt  2022  202205   NaN           24.0   \n",
       "\n",
       "   VERAEND_VORMONAT_PROZENT  VERAEND_VORJAHRESMONAT_PROZENT  \\\n",
       "0                       NaN                             NaN   \n",
       "1                       NaN                             NaN   \n",
       "2                       NaN                             NaN   \n",
       "3                       NaN                             NaN   \n",
       "4                       NaN                             NaN   \n",
       "\n",
       "   ZWOELF_MONATE_MITTELWERT  \n",
       "0                       NaN  \n",
       "1                       NaN  \n",
       "2                       NaN  \n",
       "3                       NaN  \n",
       "4                       NaN  "
      ]
     },
     "execution_count": 29,
     "metadata": {},
     "output_type": "execute_result"
    }
   ],
   "source": [
    "df = pd.read_csv('220511_monatszahlenmonatszahlen2204_verkehrsunfaelle.csv')\n",
    "\n",
    "df.head()"
   ]
  },
  {
   "cell_type": "code",
   "execution_count": 30,
   "metadata": {},
   "outputs": [
    {
     "data": {
      "text/html": [
       "<div>\n",
       "<style scoped>\n",
       "    .dataframe tbody tr th:only-of-type {\n",
       "        vertical-align: middle;\n",
       "    }\n",
       "\n",
       "    .dataframe tbody tr th {\n",
       "        vertical-align: top;\n",
       "    }\n",
       "\n",
       "    .dataframe thead th {\n",
       "        text-align: right;\n",
       "    }\n",
       "</style>\n",
       "<table border=\"1\" class=\"dataframe\">\n",
       "  <thead>\n",
       "    <tr style=\"text-align: right;\">\n",
       "      <th></th>\n",
       "      <th>MONATSZAHL</th>\n",
       "      <th>AUSPRAEGUNG</th>\n",
       "      <th>JAHR</th>\n",
       "      <th>MONAT</th>\n",
       "      <th>WERT</th>\n",
       "    </tr>\n",
       "  </thead>\n",
       "  <tbody>\n",
       "    <tr>\n",
       "      <th>26</th>\n",
       "      <td>Alkoholunfälle</td>\n",
       "      <td>insgesamt</td>\n",
       "      <td>2020</td>\n",
       "      <td>202001</td>\n",
       "      <td>28.0</td>\n",
       "    </tr>\n",
       "    <tr>\n",
       "      <th>27</th>\n",
       "      <td>Alkoholunfälle</td>\n",
       "      <td>insgesamt</td>\n",
       "      <td>2020</td>\n",
       "      <td>202002</td>\n",
       "      <td>40.0</td>\n",
       "    </tr>\n",
       "    <tr>\n",
       "      <th>28</th>\n",
       "      <td>Alkoholunfälle</td>\n",
       "      <td>insgesamt</td>\n",
       "      <td>2020</td>\n",
       "      <td>202003</td>\n",
       "      <td>27.0</td>\n",
       "    </tr>\n",
       "    <tr>\n",
       "      <th>29</th>\n",
       "      <td>Alkoholunfälle</td>\n",
       "      <td>insgesamt</td>\n",
       "      <td>2020</td>\n",
       "      <td>202004</td>\n",
       "      <td>26.0</td>\n",
       "    </tr>\n",
       "    <tr>\n",
       "      <th>30</th>\n",
       "      <td>Alkoholunfälle</td>\n",
       "      <td>insgesamt</td>\n",
       "      <td>2020</td>\n",
       "      <td>202005</td>\n",
       "      <td>40.0</td>\n",
       "    </tr>\n",
       "    <tr>\n",
       "      <th>...</th>\n",
       "      <td>...</td>\n",
       "      <td>...</td>\n",
       "      <td>...</td>\n",
       "      <td>...</td>\n",
       "      <td>...</td>\n",
       "    </tr>\n",
       "    <tr>\n",
       "      <th>2081</th>\n",
       "      <td>Verkehrsunfälle</td>\n",
       "      <td>Verletzte und Getötete</td>\n",
       "      <td>2000</td>\n",
       "      <td>200008</td>\n",
       "      <td>647.0</td>\n",
       "    </tr>\n",
       "    <tr>\n",
       "      <th>2082</th>\n",
       "      <td>Verkehrsunfälle</td>\n",
       "      <td>Verletzte und Getötete</td>\n",
       "      <td>2000</td>\n",
       "      <td>200009</td>\n",
       "      <td>675.0</td>\n",
       "    </tr>\n",
       "    <tr>\n",
       "      <th>2083</th>\n",
       "      <td>Verkehrsunfälle</td>\n",
       "      <td>Verletzte und Getötete</td>\n",
       "      <td>2000</td>\n",
       "      <td>200010</td>\n",
       "      <td>615.0</td>\n",
       "    </tr>\n",
       "    <tr>\n",
       "      <th>2084</th>\n",
       "      <td>Verkehrsunfälle</td>\n",
       "      <td>Verletzte und Getötete</td>\n",
       "      <td>2000</td>\n",
       "      <td>200011</td>\n",
       "      <td>578.0</td>\n",
       "    </tr>\n",
       "    <tr>\n",
       "      <th>2085</th>\n",
       "      <td>Verkehrsunfälle</td>\n",
       "      <td>Verletzte und Getötete</td>\n",
       "      <td>2000</td>\n",
       "      <td>200012</td>\n",
       "      <td>515.0</td>\n",
       "    </tr>\n",
       "  </tbody>\n",
       "</table>\n",
       "<p>1764 rows × 5 columns</p>\n",
       "</div>"
      ],
      "text/plain": [
       "           MONATSZAHL             AUSPRAEGUNG  JAHR   MONAT   WERT\n",
       "26     Alkoholunfälle               insgesamt  2020  202001   28.0\n",
       "27     Alkoholunfälle               insgesamt  2020  202002   40.0\n",
       "28     Alkoholunfälle               insgesamt  2020  202003   27.0\n",
       "29     Alkoholunfälle               insgesamt  2020  202004   26.0\n",
       "30     Alkoholunfälle               insgesamt  2020  202005   40.0\n",
       "...               ...                     ...   ...     ...    ...\n",
       "2081  Verkehrsunfälle  Verletzte und Getötete  2000  200008  647.0\n",
       "2082  Verkehrsunfälle  Verletzte und Getötete  2000  200009  675.0\n",
       "2083  Verkehrsunfälle  Verletzte und Getötete  2000  200010  615.0\n",
       "2084  Verkehrsunfälle  Verletzte und Getötete  2000  200011  578.0\n",
       "2085  Verkehrsunfälle  Verletzte und Getötete  2000  200012  515.0\n",
       "\n",
       "[1764 rows x 5 columns]"
      ]
     },
     "execution_count": 30,
     "metadata": {},
     "output_type": "execute_result"
    }
   ],
   "source": [
    "df_copy_1 = df.copy()\n",
    "# Dropping unimportant columns\n",
    "df_copy_1.drop(['VORJAHRESWERT', 'VERAEND_VORMONAT_PROZENT', 'VERAEND_VORJAHRESMONAT_PROZENT', 'ZWOELF_MONATE_MITTELWERT'], inplace= True, axis= 1)\n",
    "\n",
    "# Dropping 2021 and 2022 rows\n",
    "df_copy_1 = df_copy_1[df_copy_1.JAHR != 2022]\n",
    "df_copy_1 = df_copy_1[df_copy_1.JAHR != 2021]\n",
    "\n",
    "# Dropping month rows where the value = 'Summe\n",
    "df_copy_1 = df_copy_1[df_copy_1.MONAT != 'Summe']\n",
    "\n",
    "df_copy_1"
   ]
  },
  {
   "cell_type": "code",
   "execution_count": 31,
   "metadata": {},
   "outputs": [
    {
     "data": {
      "text/plain": [
       "MONATSZAHL     0\n",
       "AUSPRAEGUNG    0\n",
       "JAHR           0\n",
       "MONAT          0\n",
       "WERT           0\n",
       "dtype: int64"
      ]
     },
     "execution_count": 31,
     "metadata": {},
     "output_type": "execute_result"
    }
   ],
   "source": [
    "# Checking for missing values\n",
    "df_copy_1.isnull().sum()"
   ]
  },
  {
   "cell_type": "code",
   "execution_count": 32,
   "metadata": {},
   "outputs": [
    {
     "data": {
      "text/html": [
       "<div>\n",
       "<style scoped>\n",
       "    .dataframe tbody tr th:only-of-type {\n",
       "        vertical-align: middle;\n",
       "    }\n",
       "\n",
       "    .dataframe tbody tr th {\n",
       "        vertical-align: top;\n",
       "    }\n",
       "\n",
       "    .dataframe thead th {\n",
       "        text-align: right;\n",
       "    }\n",
       "</style>\n",
       "<table border=\"1\" class=\"dataframe\">\n",
       "  <thead>\n",
       "    <tr style=\"text-align: right;\">\n",
       "      <th></th>\n",
       "      <th>MONATSZAHL</th>\n",
       "      <th>AUSPRAEGUNG</th>\n",
       "      <th>JAHR</th>\n",
       "      <th>MONAT</th>\n",
       "      <th>WERT</th>\n",
       "    </tr>\n",
       "  </thead>\n",
       "  <tbody>\n",
       "    <tr>\n",
       "      <th>0</th>\n",
       "      <td>Alkoholunfälle</td>\n",
       "      <td>insgesamt</td>\n",
       "      <td>2020</td>\n",
       "      <td>202001</td>\n",
       "      <td>28.0</td>\n",
       "    </tr>\n",
       "    <tr>\n",
       "      <th>1</th>\n",
       "      <td>Alkoholunfälle</td>\n",
       "      <td>insgesamt</td>\n",
       "      <td>2020</td>\n",
       "      <td>202002</td>\n",
       "      <td>40.0</td>\n",
       "    </tr>\n",
       "    <tr>\n",
       "      <th>2</th>\n",
       "      <td>Alkoholunfälle</td>\n",
       "      <td>insgesamt</td>\n",
       "      <td>2020</td>\n",
       "      <td>202003</td>\n",
       "      <td>27.0</td>\n",
       "    </tr>\n",
       "    <tr>\n",
       "      <th>3</th>\n",
       "      <td>Alkoholunfälle</td>\n",
       "      <td>insgesamt</td>\n",
       "      <td>2020</td>\n",
       "      <td>202004</td>\n",
       "      <td>26.0</td>\n",
       "    </tr>\n",
       "    <tr>\n",
       "      <th>4</th>\n",
       "      <td>Alkoholunfälle</td>\n",
       "      <td>insgesamt</td>\n",
       "      <td>2020</td>\n",
       "      <td>202005</td>\n",
       "      <td>40.0</td>\n",
       "    </tr>\n",
       "  </tbody>\n",
       "</table>\n",
       "</div>"
      ],
      "text/plain": [
       "       MONATSZAHL AUSPRAEGUNG  JAHR   MONAT  WERT\n",
       "0  Alkoholunfälle   insgesamt  2020  202001  28.0\n",
       "1  Alkoholunfälle   insgesamt  2020  202002  40.0\n",
       "2  Alkoholunfälle   insgesamt  2020  202003  27.0\n",
       "3  Alkoholunfälle   insgesamt  2020  202004  26.0\n",
       "4  Alkoholunfälle   insgesamt  2020  202005  40.0"
      ]
     },
     "execution_count": 32,
     "metadata": {},
     "output_type": "execute_result"
    }
   ],
   "source": [
    "# Resetting all the indexs\n",
    "df_copy_1 = df_copy_1.reset_index()\n",
    "df_copy_1.head()\n",
    "df_copy_1.drop('index', inplace= True, axis= 1)\n",
    "df_copy_1.head()"
   ]
  },
  {
   "cell_type": "code",
   "execution_count": 33,
   "metadata": {},
   "outputs": [
    {
     "name": "stderr",
     "output_type": "stream",
     "text": [
      "C:\\Users\\PC\\AppData\\Local\\Temp\\ipykernel_7672\\3263749207.py:7: SettingWithCopyWarning: \n",
      "A value is trying to be set on a copy of a slice from a DataFrame\n",
      "\n",
      "See the caveats in the documentation: https://pandas.pydata.org/pandas-docs/stable/user_guide/indexing.html#returning-a-view-versus-a-copy\n",
      "  df_copy_1['MONAT'][index] = new_value\n"
     ]
    },
    {
     "data": {
      "text/html": [
       "<div>\n",
       "<style scoped>\n",
       "    .dataframe tbody tr th:only-of-type {\n",
       "        vertical-align: middle;\n",
       "    }\n",
       "\n",
       "    .dataframe tbody tr th {\n",
       "        vertical-align: top;\n",
       "    }\n",
       "\n",
       "    .dataframe thead th {\n",
       "        text-align: right;\n",
       "    }\n",
       "</style>\n",
       "<table border=\"1\" class=\"dataframe\">\n",
       "  <thead>\n",
       "    <tr style=\"text-align: right;\">\n",
       "      <th></th>\n",
       "      <th>MONATSZAHL</th>\n",
       "      <th>AUSPRAEGUNG</th>\n",
       "      <th>JAHR</th>\n",
       "      <th>MONAT</th>\n",
       "      <th>WERT</th>\n",
       "    </tr>\n",
       "  </thead>\n",
       "  <tbody>\n",
       "    <tr>\n",
       "      <th>0</th>\n",
       "      <td>Alkoholunfälle</td>\n",
       "      <td>insgesamt</td>\n",
       "      <td>2020</td>\n",
       "      <td>01</td>\n",
       "      <td>28.0</td>\n",
       "    </tr>\n",
       "    <tr>\n",
       "      <th>1</th>\n",
       "      <td>Alkoholunfälle</td>\n",
       "      <td>insgesamt</td>\n",
       "      <td>2020</td>\n",
       "      <td>02</td>\n",
       "      <td>40.0</td>\n",
       "    </tr>\n",
       "    <tr>\n",
       "      <th>2</th>\n",
       "      <td>Alkoholunfälle</td>\n",
       "      <td>insgesamt</td>\n",
       "      <td>2020</td>\n",
       "      <td>03</td>\n",
       "      <td>27.0</td>\n",
       "    </tr>\n",
       "    <tr>\n",
       "      <th>3</th>\n",
       "      <td>Alkoholunfälle</td>\n",
       "      <td>insgesamt</td>\n",
       "      <td>2020</td>\n",
       "      <td>04</td>\n",
       "      <td>26.0</td>\n",
       "    </tr>\n",
       "    <tr>\n",
       "      <th>4</th>\n",
       "      <td>Alkoholunfälle</td>\n",
       "      <td>insgesamt</td>\n",
       "      <td>2020</td>\n",
       "      <td>05</td>\n",
       "      <td>40.0</td>\n",
       "    </tr>\n",
       "  </tbody>\n",
       "</table>\n",
       "</div>"
      ],
      "text/plain": [
       "       MONATSZAHL AUSPRAEGUNG  JAHR MONAT  WERT\n",
       "0  Alkoholunfälle   insgesamt  2020    01  28.0\n",
       "1  Alkoholunfälle   insgesamt  2020    02  40.0\n",
       "2  Alkoholunfälle   insgesamt  2020    03  27.0\n",
       "3  Alkoholunfälle   insgesamt  2020    04  26.0\n",
       "4  Alkoholunfälle   insgesamt  2020    05  40.0"
      ]
     },
     "execution_count": 33,
     "metadata": {},
     "output_type": "execute_result"
    }
   ],
   "source": [
    "# A function to reformat the monat column\n",
    "def fix_monat_column():\n",
    "    for index, value in enumerate(df_copy_1['MONAT']):\n",
    "        value = list(value)\n",
    "        value = value[-2:]\n",
    "        new_value = ''.join(map(str, value))\n",
    "        df_copy_1['MONAT'][index] = new_value\n",
    "\n",
    "fix_monat_column()\n",
    "df_copy_1.head()"
   ]
  },
  {
   "cell_type": "markdown",
   "metadata": {},
   "source": [
    "### Displaying the data"
   ]
  },
  {
   "cell_type": "code",
   "execution_count": 34,
   "metadata": {},
   "outputs": [],
   "source": [
    "sns.set()"
   ]
  },
  {
   "cell_type": "code",
   "execution_count": 36,
   "metadata": {},
   "outputs": [
    {
     "data": {
      "text/plain": [
       "<function matplotlib.pyplot.show(close=None, block=None)>"
      ]
     },
     "execution_count": 36,
     "metadata": {},
     "output_type": "execute_result"
    },
    {
     "data": {
      "text/plain": [
       "<Figure size 720x720 with 0 Axes>"
      ]
     },
     "metadata": {},
     "output_type": "display_data"
    },
    {
     "data": {
      "image/png": "[encoded data removed]",
      "text/plain": [
       "<Figure size 360x360 with 1 Axes>"
      ]
     },
     "metadata": {},
     "output_type": "display_data"
    }
   ],
   "source": [
    "# Histogram of values\n",
    "plt.figure(figsize=(10,10))\n",
    "sns.displot(df_copy_1['WERT'])\n",
    "plt.show"
   ]
  },
  {
   "cell_type": "code",
   "execution_count": 37,
   "metadata": {},
   "outputs": [
    {
     "name": "stdout",
     "output_type": "stream",
     "text": [
      "Skewness: 1.871505\n",
      "Kurtosis: 2.119151\n"
     ]
    }
   ],
   "source": [
    "#skewness and kurtosis\n",
    "print(\"Skewness: %f\" % df_copy_1['WERT'].skew())\n",
    "print(\"Kurtosis: %f\" % df_copy_1['WERT'].kurt())"
   ]
  },
  {
   "cell_type": "markdown",
   "metadata": {},
   "source": [
    "- Deviate from the normal distribution.\n",
    "- Have appreciable positive skewness.\n",
    "- Show peakedness."
   ]
  },
  {
   "cell_type": "code",
   "execution_count": 38,
   "metadata": {},
   "outputs": [
    {
     "data": {
      "image/png": "[encoded data removed]",
      "text/plain": [
       "<Figure size 432x432 with 1 Axes>"
      ]
     },
     "metadata": {},
     "output_type": "display_data"
    }
   ],
   "source": [
    "# Relationship with MONATSZAHL\n",
    "var = 'MONATSZAHL'\n",
    "data = pd.concat([df_copy_1['WERT'], df_copy_1[var]], axis=1)\n",
    "f, ax = plt.subplots(figsize=(6, 6))\n",
    "fig = sns.boxplot(x=var, y=\"WERT\", data=data)"
   ]
  },
  {
   "cell_type": "code",
   "execution_count": 39,
   "metadata": {},
   "outputs": [
    {
     "data": {
      "image/png": "[encoded data removed]",
      "text/plain": [
       "<Figure size 432x432 with 1 Axes>"
      ]
     },
     "metadata": {},
     "output_type": "display_data"
    }
   ],
   "source": [
    "# Relationship with AUSPRAEGUNG\n",
    "var = 'AUSPRAEGUNG'\n",
    "data = pd.concat([df_copy_1['WERT'], df_copy_1[var]], axis=1)\n",
    "f, ax = plt.subplots(figsize=(6, 6))\n",
    "fig = sns.boxplot(x=var, y=\"WERT\", data=data)"
   ]
  },
  {
   "cell_type": "code",
   "execution_count": 42,
   "metadata": {},
   "outputs": [
    {
     "data": {
      "text/html": [
       "<div>\n",
       "<style scoped>\n",
       "    .dataframe tbody tr th:only-of-type {\n",
       "        vertical-align: middle;\n",
       "    }\n",
       "\n",
       "    .dataframe tbody tr th {\n",
       "        vertical-align: top;\n",
       "    }\n",
       "\n",
       "    .dataframe thead th {\n",
       "        text-align: right;\n",
       "    }\n",
       "</style>\n",
       "<table border=\"1\" class=\"dataframe\">\n",
       "  <thead>\n",
       "    <tr style=\"text-align: right;\">\n",
       "      <th></th>\n",
       "      <th>MONATSZAHL</th>\n",
       "      <th>AUSPRAEGUNG</th>\n",
       "      <th>JAHR</th>\n",
       "      <th>MONAT</th>\n",
       "      <th>WERT</th>\n",
       "    </tr>\n",
       "  </thead>\n",
       "  <tbody>\n",
       "    <tr>\n",
       "      <th>25</th>\n",
       "      <td>Alkoholunfälle</td>\n",
       "      <td>insgesamt</td>\n",
       "      <td>2020</td>\n",
       "      <td>Summe</td>\n",
       "      <td>430.0</td>\n",
       "    </tr>\n",
       "    <tr>\n",
       "      <th>38</th>\n",
       "      <td>Alkoholunfälle</td>\n",
       "      <td>insgesamt</td>\n",
       "      <td>2019</td>\n",
       "      <td>Summe</td>\n",
       "      <td>434.0</td>\n",
       "    </tr>\n",
       "    <tr>\n",
       "      <th>51</th>\n",
       "      <td>Alkoholunfälle</td>\n",
       "      <td>insgesamt</td>\n",
       "      <td>2018</td>\n",
       "      <td>Summe</td>\n",
       "      <td>398.0</td>\n",
       "    </tr>\n",
       "    <tr>\n",
       "      <th>64</th>\n",
       "      <td>Alkoholunfälle</td>\n",
       "      <td>insgesamt</td>\n",
       "      <td>2017</td>\n",
       "      <td>Summe</td>\n",
       "      <td>409.0</td>\n",
       "    </tr>\n",
       "    <tr>\n",
       "      <th>77</th>\n",
       "      <td>Alkoholunfälle</td>\n",
       "      <td>insgesamt</td>\n",
       "      <td>2016</td>\n",
       "      <td>Summe</td>\n",
       "      <td>301.0</td>\n",
       "    </tr>\n",
       "    <tr>\n",
       "      <th>...</th>\n",
       "      <td>...</td>\n",
       "      <td>...</td>\n",
       "      <td>...</td>\n",
       "      <td>...</td>\n",
       "      <td>...</td>\n",
       "    </tr>\n",
       "    <tr>\n",
       "      <th>2021</th>\n",
       "      <td>Verkehrsunfälle</td>\n",
       "      <td>Verletzte und Getötete</td>\n",
       "      <td>2004</td>\n",
       "      <td>Summe</td>\n",
       "      <td>6219.0</td>\n",
       "    </tr>\n",
       "    <tr>\n",
       "      <th>2034</th>\n",
       "      <td>Verkehrsunfälle</td>\n",
       "      <td>Verletzte und Getötete</td>\n",
       "      <td>2003</td>\n",
       "      <td>Summe</td>\n",
       "      <td>6365.0</td>\n",
       "    </tr>\n",
       "    <tr>\n",
       "      <th>2047</th>\n",
       "      <td>Verkehrsunfälle</td>\n",
       "      <td>Verletzte und Getötete</td>\n",
       "      <td>2002</td>\n",
       "      <td>Summe</td>\n",
       "      <td>7026.0</td>\n",
       "    </tr>\n",
       "    <tr>\n",
       "      <th>2060</th>\n",
       "      <td>Verkehrsunfälle</td>\n",
       "      <td>Verletzte und Getötete</td>\n",
       "      <td>2001</td>\n",
       "      <td>Summe</td>\n",
       "      <td>7452.0</td>\n",
       "    </tr>\n",
       "    <tr>\n",
       "      <th>2073</th>\n",
       "      <td>Verkehrsunfälle</td>\n",
       "      <td>Verletzte und Getötete</td>\n",
       "      <td>2000</td>\n",
       "      <td>Summe</td>\n",
       "      <td>7053.0</td>\n",
       "    </tr>\n",
       "  </tbody>\n",
       "</table>\n",
       "<p>147 rows × 5 columns</p>\n",
       "</div>"
      ],
      "text/plain": [
       "           MONATSZAHL             AUSPRAEGUNG  JAHR  MONAT    WERT\n",
       "25     Alkoholunfälle               insgesamt  2020  Summe   430.0\n",
       "38     Alkoholunfälle               insgesamt  2019  Summe   434.0\n",
       "51     Alkoholunfälle               insgesamt  2018  Summe   398.0\n",
       "64     Alkoholunfälle               insgesamt  2017  Summe   409.0\n",
       "77     Alkoholunfälle               insgesamt  2016  Summe   301.0\n",
       "...               ...                     ...   ...    ...     ...\n",
       "2021  Verkehrsunfälle  Verletzte und Getötete  2004  Summe  6219.0\n",
       "2034  Verkehrsunfälle  Verletzte und Getötete  2003  Summe  6365.0\n",
       "2047  Verkehrsunfälle  Verletzte und Getötete  2002  Summe  7026.0\n",
       "2060  Verkehrsunfälle  Verletzte und Getötete  2001  Summe  7452.0\n",
       "2073  Verkehrsunfälle  Verletzte und Getötete  2000  Summe  7053.0\n",
       "\n",
       "[147 rows x 5 columns]"
      ]
     },
     "execution_count": 42,
     "metadata": {},
     "output_type": "execute_result"
    }
   ],
   "source": [
    "# A Dataframe with only MONAT value = 'Summe' to plot later\n",
    "df_copy_2 = df.copy()\n",
    "df_copy_2.drop(['VORJAHRESWERT', 'VERAEND_VORMONAT_PROZENT', 'VERAEND_VORJAHRESMONAT_PROZENT', 'ZWOELF_MONATE_MITTELWERT'], inplace= True, axis= 1)\n",
    "df_copy_2 = df_copy_2[df_copy_2.JAHR != 2022]\n",
    "df_copy_2 = df_copy_2[df_copy_2.JAHR != 2021]\n",
    "df_copy_2 = df_copy_2[df_copy_2.MONAT == 'Summe']\n",
    "df_copy_2"
   ]
  },
  {
   "cell_type": "code",
   "execution_count": 43,
   "metadata": {},
   "outputs": [
    {
     "name": "stderr",
     "output_type": "stream",
     "text": [
      "*c* argument looks like a single numeric RGB or RGBA sequence, which should be avoided as value-mapping will have precedence in case its length matches with *x* & *y*.  Please use the *color* keyword-argument or provide a 2D array with a single row if you intend to specify the same RGB or RGBA value for all points.\n"
     ]
    },
    {
     "data": {
      "text/plain": [
       "<AxesSubplot:xlabel='JAHR', ylabel='WERT'>"
      ]
     },
     "execution_count": 43,
     "metadata": {},
     "output_type": "execute_result"
    },
    {
     "data": {
      "image/png": "[encoded data removed]",
      "text/plain": [
       "<Figure size 432x288 with 1 Axes>"
      ]
     },
     "metadata": {},
     "output_type": "display_data"
    }
   ],
   "source": [
    "# Relationship between Alkoholunfälle and type insgesamt with the total value in each year\n",
    "insgesamt_wert = df_copy_2[(df_copy_2.MONATSZAHL == 'Alkoholunfälle')]\n",
    "insgesamt_wert= insgesamt_wert[(insgesamt_wert.AUSPRAEGUNG == 'insgesamt')]\n",
    "var = 'JAHR'\n",
    "insgesamt_wert.plot.scatter(x=var, y=\"WERT\")"
   ]
  },
  {
   "cell_type": "code",
   "execution_count": 51,
   "metadata": {},
   "outputs": [
    {
     "data": {
      "text/plain": [
       "<AxesSubplot:xlabel='JAHR'>"
      ]
     },
     "execution_count": 51,
     "metadata": {},
     "output_type": "execute_result"
    },
    {
     "data": {
      "image/png": "[encoded data removed]",
      "text/plain": [
       "<Figure size 432x288 with 1 Axes>"
      ]
     },
     "metadata": {},
     "output_type": "display_data"
    }
   ],
   "source": [
    "# Relationship between Alkoholunfälle and type insgesamt with the total value in every year\n",
    "df_copy_3 = df_copy_1.copy()\n",
    "monat_wert = df_copy_3[(df_copy_3.MONATSZAHL == 'Alkoholunfälle')]\n",
    "monat_wert= monat_wert[(monat_wert.AUSPRAEGUNG == 'insgesamt')]\n",
    "var = 'JAHR'\n",
    "monat_wert.plot(x=var, y=\"WERT\")"
   ]
  },
  {
   "cell_type": "code",
   "execution_count": 52,
   "metadata": {},
   "outputs": [
    {
     "data": {
      "text/plain": [
       "<AxesSubplot:xlabel='MONAT'>"
      ]
     },
     "execution_count": 52,
     "metadata": {},
     "output_type": "execute_result"
    },
    {
     "data": {
      "image/png": "[encoded data removed]",
      "text/plain": [
       "<Figure size 432x288 with 1 Axes>"
      ]
     },
     "metadata": {},
     "output_type": "display_data"
    }
   ],
   "source": [
    "# Relationship between Alkoholunfälle and type insgesamt with the total value in each month\n",
    "df_copy_3 = df_copy_1.copy()\n",
    "monat_wert = df_copy_3[(df_copy_3.MONATSZAHL == 'Alkoholunfälle')]\n",
    "monat_wert= monat_wert[(monat_wert.AUSPRAEGUNG == 'insgesamt')]\n",
    "var = 'MONAT'\n",
    "monat_wert.plot(x=var, y=\"WERT\")"
   ]
  },
  {
   "cell_type": "markdown",
   "metadata": {},
   "source": [
    "### Label Encoding"
   ]
  },
  {
   "cell_type": "code",
   "execution_count": 53,
   "metadata": {},
   "outputs": [
    {
     "name": "stdout",
     "output_type": "stream",
     "text": [
      "<class 'pandas.core.frame.DataFrame'>\n",
      "RangeIndex: 1764 entries, 0 to 1763\n",
      "Data columns (total 5 columns):\n",
      " #   Column       Non-Null Count  Dtype  \n",
      "---  ------       --------------  -----  \n",
      " 0   MONATSZAHL   1764 non-null   object \n",
      " 1   AUSPRAEGUNG  1764 non-null   object \n",
      " 2   JAHR         1764 non-null   int64  \n",
      " 3   MONAT        1764 non-null   object \n",
      " 4   WERT         1764 non-null   float64\n",
      "dtypes: float64(1), int64(1), object(3)\n",
      "memory usage: 69.0+ KB\n"
     ]
    }
   ],
   "source": [
    "df_copy_1.info()\n"
   ]
  },
  {
   "cell_type": "code",
   "execution_count": 55,
   "metadata": {},
   "outputs": [],
   "source": [
    "X = df_copy_1.drop(columns= ['WERT'], axis= 1)\n",
    "Y = df_copy_1['WERT']\n",
    "categorical_colums = ['MONATSZAHL', 'AUSPRAEGUNG', 'MONAT']"
   ]
  },
  {
   "cell_type": "code",
   "execution_count": 56,
   "metadata": {},
   "outputs": [],
   "source": [
    "X_train, X_test, Y_train, Y_test = train_test_split(X, Y, test_size=0.2, random_state=0)"
   ]
  },
  {
   "cell_type": "markdown",
   "metadata": {},
   "source": [
    "#### One hot encoding the categorical values"
   ]
  },
  {
   "cell_type": "code",
   "execution_count": 57,
   "metadata": {},
   "outputs": [],
   "source": [
    "from sklearn.preprocessing import OneHotEncoder\n",
    "\n",
    "OH_encoder = OneHotEncoder(handle_unknown='ignore', sparse= False)\n",
    "OH_cols_train = pd.DataFrame(OH_encoder.fit_transform(X_train[categorical_colums]))\n",
    "OH_cols_test = pd.DataFrame(OH_encoder.transform(X_test[categorical_colums]))"
   ]
  },
  {
   "cell_type": "code",
   "execution_count": 58,
   "metadata": {},
   "outputs": [],
   "source": [
    "OH_cols_train.index = X_train.index\n",
    "OH_cols_test.index = X_test.index"
   ]
  },
  {
   "cell_type": "code",
   "execution_count": 59,
   "metadata": {},
   "outputs": [],
   "source": [
    "num_X_train = X_train.drop(categorical_colums, axis = 1)\n",
    "num_X_test = X_test.drop(categorical_colums, axis = 1)"
   ]
  },
  {
   "cell_type": "markdown",
   "metadata": {},
   "source": [
    "#### Standard scale the numerical values"
   ]
  },
  {
   "cell_type": "code",
   "execution_count": 61,
   "metadata": {},
   "outputs": [],
   "source": [
    "from sklearn.preprocessing import StandardScaler\n",
    "scaler = StandardScaler()\n",
    "Scaler_X_train = pd.DataFrame(scaler.fit_transform(X_train[['JAHR']]))\n",
    "Scaler_X_test = pd.DataFrame(scaler.transform(X_test[['JAHR']]))"
   ]
  },
  {
   "cell_type": "code",
   "execution_count": 62,
   "metadata": {},
   "outputs": [],
   "source": [
    "Scaler_X_train.index = X_train.index\n",
    "Scaler_X_test.index = X_test.index"
   ]
  },
  {
   "cell_type": "code",
   "execution_count": 63,
   "metadata": {},
   "outputs": [],
   "source": [
    "Scaler_X_train.columns = ['JAHR']\n",
    "Scaler_X_test.columns = ['JAHR']"
   ]
  },
  {
   "cell_type": "code",
   "execution_count": 64,
   "metadata": {},
   "outputs": [],
   "source": [
    "OH_X_train = pd.concat([Scaler_X_train, OH_cols_train], axis = 1)\n",
    "OH_X_test = pd.concat([Scaler_X_test, OH_cols_test], axis = 1)"
   ]
  },
  {
   "cell_type": "code",
   "execution_count": 65,
   "metadata": {},
   "outputs": [
    {
     "data": {
      "text/html": [
       "<style>#sk-container-id-1 {color: black;background-color: white;}#sk-container-id-1 pre{padding: 0;}#sk-container-id-1 div.sk-toggleable {background-color: white;}#sk-container-id-1 label.sk-toggleable__label {cursor: pointer;display: block;width: 100%;margin-bottom: 0;padding: 0.3em;box-sizing: border-box;text-align: center;}#sk-container-id-1 label.sk-toggleable__label-arrow:before {content: \"▸\";float: left;margin-right: 0.25em;color: #696969;}#sk-container-id-1 label.sk-toggleable__label-arrow:hover:before {color: black;}#sk-container-id-1 div.sk-estimator:hover label.sk-toggleable__label-arrow:before {color: black;}#sk-container-id-1 div.sk-toggleable__content {max-height: 0;max-width: 0;overflow: hidden;text-align: left;background-color: #f0f8ff;}#sk-container-id-1 div.sk-toggleable__content pre {margin: 0.2em;color: black;border-radius: 0.25em;background-color: #f0f8ff;}#sk-container-id-1 input.sk-toggleable__control:checked~div.sk-toggleable__content {max-height: 200px;max-width: 100%;overflow: auto;}#sk-container-id-1 input.sk-toggleable__control:checked~label.sk-toggleable__label-arrow:before {content: \"▾\";}#sk-container-id-1 div.sk-estimator input.sk-toggleable__control:checked~label.sk-toggleable__label {background-color: #d4ebff;}#sk-container-id-1 div.sk-label input.sk-toggleable__control:checked~label.sk-toggleable__label {background-color: #d4ebff;}#sk-container-id-1 input.sk-hidden--visually {border: 0;clip: rect(1px 1px 1px 1px);clip: rect(1px, 1px, 1px, 1px);height: 1px;margin: -1px;overflow: hidden;padding: 0;position: absolute;width: 1px;}#sk-container-id-1 div.sk-estimator {font-family: monospace;background-color: #f0f8ff;border: 1px dotted black;border-radius: 0.25em;box-sizing: border-box;margin-bottom: 0.5em;}#sk-container-id-1 div.sk-estimator:hover {background-color: #d4ebff;}#sk-container-id-1 div.sk-parallel-item::after {content: \"\";width: 100%;border-bottom: 1px solid gray;flex-grow: 1;}#sk-container-id-1 div.sk-label:hover label.sk-toggleable__label {background-color: #d4ebff;}#sk-container-id-1 div.sk-serial::before {content: \"\";position: absolute;border-left: 1px solid gray;box-sizing: border-box;top: 0;bottom: 0;left: 50%;z-index: 0;}#sk-container-id-1 div.sk-serial {display: flex;flex-direction: column;align-items: center;background-color: white;padding-right: 0.2em;padding-left: 0.2em;position: relative;}#sk-container-id-1 div.sk-item {position: relative;z-index: 1;}#sk-container-id-1 div.sk-parallel {display: flex;align-items: stretch;justify-content: center;background-color: white;position: relative;}#sk-container-id-1 div.sk-item::before, #sk-container-id-1 div.sk-parallel-item::before {content: \"\";position: absolute;border-left: 1px solid gray;box-sizing: border-box;top: 0;bottom: 0;left: 50%;z-index: -1;}#sk-container-id-1 div.sk-parallel-item {display: flex;flex-direction: column;z-index: 1;position: relative;background-color: white;}#sk-container-id-1 div.sk-parallel-item:first-child::after {align-self: flex-end;width: 50%;}#sk-container-id-1 div.sk-parallel-item:last-child::after {align-self: flex-start;width: 50%;}#sk-container-id-1 div.sk-parallel-item:only-child::after {width: 0;}#sk-container-id-1 div.sk-dashed-wrapped {border: 1px dashed gray;margin: 0 0.4em 0.5em 0.4em;box-sizing: border-box;padding-bottom: 0.4em;background-color: white;}#sk-container-id-1 div.sk-label label {font-family: monospace;font-weight: bold;display: inline-block;line-height: 1.2em;}#sk-container-id-1 div.sk-label-container {text-align: center;}#sk-container-id-1 div.sk-container {/* jupyter's `normalize.less` sets `[hidden] { display: none; }` but bootstrap.min.css set `[hidden] { display: none !important; }` so we also need the `!important` here to be able to override the default hidden behavior on the sphinx rendered scikit-learn.org. See: https://github.com/scikit-learn/scikit-learn/issues/21755 */display: inline-block !important;position: relative;}#sk-container-id-1 div.sk-text-repr-fallback {display: none;}</style><div id=\"sk-container-id-1\" class=\"sk-top-container\"><div class=\"sk-text-repr-fallback\"><pre>XGBRegressor(base_score=0.5, booster=&#x27;gbtree&#x27;, callbacks=None,\n",
       "             colsample_bylevel=1, colsample_bynode=1, colsample_bytree=1,\n",
       "             early_stopping_rounds=None, enable_categorical=False,\n",
       "             eval_metric=None, gamma=0, gpu_id=-1, grow_policy=&#x27;depthwise&#x27;,\n",
       "             importance_type=None, interaction_constraints=&#x27;&#x27;,\n",
       "             learning_rate=0.300000012, max_bin=256, max_cat_to_onehot=4,\n",
       "             max_delta_step=0, max_depth=6, max_leaves=0, min_child_weight=1,\n",
       "             missing=nan, monotone_constraints=&#x27;()&#x27;, n_estimators=100, n_jobs=0,\n",
       "             num_parallel_tree=1, predictor=&#x27;auto&#x27;, random_state=0, reg_alpha=0,\n",
       "             reg_lambda=1, ...)</pre><b>In a Jupyter environment, please rerun this cell to show the HTML representation or trust the notebook. <br />On GitHub, the HTML representation is unable to render, please try loading this page with nbviewer.org.</b></div><div class=\"sk-container\" hidden><div class=\"sk-item\"><div class=\"sk-estimator sk-toggleable\"><input class=\"sk-toggleable__control sk-hidden--visually\" id=\"sk-estimator-id-1\" type=\"checkbox\" checked><label for=\"sk-estimator-id-1\" class=\"sk-toggleable__label sk-toggleable__label-arrow\">XGBRegressor</label><div class=\"sk-toggleable__content\"><pre>XGBRegressor(base_score=0.5, booster=&#x27;gbtree&#x27;, callbacks=None,\n",
       "             colsample_bylevel=1, colsample_bynode=1, colsample_bytree=1,\n",
       "             early_stopping_rounds=None, enable_categorical=False,\n",
       "             eval_metric=None, gamma=0, gpu_id=-1, grow_policy=&#x27;depthwise&#x27;,\n",
       "             importance_type=None, interaction_constraints=&#x27;&#x27;,\n",
       "             learning_rate=0.300000012, max_bin=256, max_cat_to_onehot=4,\n",
       "             max_delta_step=0, max_depth=6, max_leaves=0, min_child_weight=1,\n",
       "             missing=nan, monotone_constraints=&#x27;()&#x27;, n_estimators=100, n_jobs=0,\n",
       "             num_parallel_tree=1, predictor=&#x27;auto&#x27;, random_state=0, reg_alpha=0,\n",
       "             reg_lambda=1, ...)</pre></div></div></div></div></div>"
      ],
      "text/plain": [
       "XGBRegressor(base_score=0.5, booster='gbtree', callbacks=None,\n",
       "             colsample_bylevel=1, colsample_bynode=1, colsample_bytree=1,\n",
       "             early_stopping_rounds=None, enable_categorical=False,\n",
       "             eval_metric=None, gamma=0, gpu_id=-1, grow_policy='depthwise',\n",
       "             importance_type=None, interaction_constraints='',\n",
       "             learning_rate=0.300000012, max_bin=256, max_cat_to_onehot=4,\n",
       "             max_delta_step=0, max_depth=6, max_leaves=0, min_child_weight=1,\n",
       "             missing=nan, monotone_constraints='()', n_estimators=100, n_jobs=0,\n",
       "             num_parallel_tree=1, predictor='auto', random_state=0, reg_alpha=0,\n",
       "             reg_lambda=1, ...)"
      ]
     },
     "execution_count": 65,
     "metadata": {},
     "output_type": "execute_result"
    }
   ],
   "source": [
    "# Train the dataset with xgboost\n",
    "from xgboost import XGBRegressor\n",
    "regressor = XGBRegressor()\n",
    "regressor.fit(OH_X_train, Y_train)"
   ]
  },
  {
   "cell_type": "markdown",
   "metadata": {},
   "source": [
    "#### Testing the model"
   ]
  },
  {
   "cell_type": "code",
   "execution_count": 66,
   "metadata": {},
   "outputs": [
    {
     "name": "stdout",
     "output_type": "stream",
     "text": [
      "R Squared value =  0.9994770404452956\n"
     ]
    }
   ],
   "source": [
    "training_data_prediction = regressor.predict(OH_X_train)\n",
    "r2_train = metrics.r2_score(Y_train, training_data_prediction)\n",
    "print('R Squared value = ', r2_train)"
   ]
  },
  {
   "cell_type": "code",
   "execution_count": 67,
   "metadata": {},
   "outputs": [
    {
     "name": "stdout",
     "output_type": "stream",
     "text": [
      "R Squared value =  0.9940164334875129\n"
     ]
    }
   ],
   "source": [
    "test_data_prediction = regressor.predict(OH_X_test)\n",
    "r2_test = metrics.r2_score(Y_test, test_data_prediction)\n",
    "print('R Squared value = ', r2_test)"
   ]
  },
  {
   "cell_type": "code",
   "execution_count": 69,
   "metadata": {},
   "outputs": [
    {
     "name": "stdout",
     "output_type": "stream",
     "text": [
      "[28.951513]\n"
     ]
    }
   ],
   "source": [
    "data = {'MONATSZAHL': ['Alkoholunfälle'], 'AUSPRAEGUNG' : ['insgesamt'], 'JAHR' : [2021], 'MONAT' : ['01']}\n",
    "df_test = pd.DataFrame(data)\n",
    "OH_df_test = pd.DataFrame(OH_encoder.transform(df_test[categorical_colums]))\n",
    "num_df_test = df_test.drop(categorical_colums, axis = 1)\n",
    "OH_df_test.index = df_test.index\n",
    "OH_df = pd.concat([num_df_test, OH_df_test], axis = 1)\n",
    "print(regressor.predict(OH_df))"
   ]
  }
 ],
 "metadata": {
  "kernelspec": {
   "display_name": "Python 3.10.5 ('venv': venv)",
   "language": "python",
   "name": "python3"
  },
  "language_info": {
   "codemirror_mode": {
    "name": "ipython",
    "version": 3
   },
   "file_extension": ".py",
   "mimetype": "text/x-python",
   "name": "python",
   "nbconvert_exporter": "python",
   "pygments_lexer": "ipython3",
   "version": "3.10.5"
  },
  "orig_nbformat": 4,
  "vscode": {
   "interpreter": {
    "hash": "969d5b37ad00b8f84fd42dc8ec2a8a72ce14b6aae8bf11fdc1cd9302585b7814"
   }
  }
 },
 "nbformat": 4,
 "nbformat_minor": 2
}
